{
 "cells": [
  {
   "cell_type": "markdown",
   "id": "b7a3eac1",
   "metadata": {
    "_cell_guid": "b1076dfc-b9ad-4769-8c92-a6c4dae69d19",
    "_uuid": "8f2839f25d086af736a60e9eeb907d3b93b6e0e5",
    "execution": {
     "iopub.execute_input": "2023-07-13T14:56:08.913993Z",
     "iopub.status.busy": "2023-07-13T14:56:08.913583Z",
     "iopub.status.idle": "2023-07-13T14:56:08.921591Z",
     "shell.execute_reply": "2023-07-13T14:56:08.920146Z",
     "shell.execute_reply.started": "2023-07-13T14:56:08.913961Z"
    },
    "papermill": {
     "duration": 0.015376,
     "end_time": "2023-07-14T03:30:17.096518",
     "exception": false,
     "start_time": "2023-07-14T03:30:17.081142",
     "status": "completed"
    },
    "tags": []
   },
   "source": [
    "# Introduction"
   ]
  },
  {
   "cell_type": "markdown",
   "id": "5615ad64",
   "metadata": {
    "papermill": {
     "duration": 0.014424,
     "end_time": "2023-07-14T03:30:17.125890",
     "exception": false,
     "start_time": "2023-07-14T03:30:17.111466",
     "status": "completed"
    },
    "tags": []
   },
   "source": [
    "The Titanic dataset is a famous dataset in machine learning and data analysis, containing data on the passengers aboard the Titanic and their survival status. It consists of a training dataset with 891 observations and a test dataset with 418 observations. The goal is to use machine learning techniques to predict the survival of passengers on the Titanic based on their variables in the training dataset.The notebook will begin with an exploration of the dataset and data preparation, including handling missing values and visualization. Then, we will train and evaluate various machine learning models to predict survival and compare their performance. The goal is to achieve the highest possible accuracy in predicting survival and gain insights into the factors that contributed to passengers' survival on the Titanic."
   ]
  },
  {
   "cell_type": "markdown",
   "id": "dcb157d0",
   "metadata": {
    "papermill": {
     "duration": 0.014474,
     "end_time": "2023-07-14T03:30:17.155207",
     "exception": false,
     "start_time": "2023-07-14T03:30:17.140733",
     "status": "completed"
    },
    "tags": []
   },
   "source": [
    "### Understanding the Variables.\n"
   ]
  },
  {
   "cell_type": "markdown",
   "id": "1d50264c",
   "metadata": {
    "papermill": {
     "duration": 0.014375,
     "end_time": "2023-07-14T03:30:17.184161",
     "exception": false,
     "start_time": "2023-07-14T03:30:17.169786",
     "status": "completed"
    },
    "tags": []
   },
   "source": [
    "Before we can begin analyzing the Titanic dataset, it's important to understand what each variable represents. The dataset contains the following variables :\n",
    "\n",
    "PassengerId: A unique identifier for each passenger.\n",
    "\n",
    "Survived: Whether or not the passenger survived (0 = No, 1 = Yes).\n",
    "\n",
    "Pclass: The passenger class (1 = 1st class, 2 = 2nd class, 3 = 3rd class).\n",
    "\n",
    "Name: The name of the passenger.\n",
    "\n",
    "Sex: The gender of the passenger.\n",
    "\n",
    "Age: The age of the passenger in years. Fractional values are included for infants.\n",
    "\n",
    "SibSp: The number of siblings/spouses aboard the Titanic.\n",
    "\n",
    "Parch: The number of parents/children aboard the Titanic.\n",
    "\n",
    "Ticket: The ticket number for the passenger.\n",
    "\n",
    "Fare: The fare paid by the passenger.\n",
    "\n",
    "Cabin: The cabin number for the passenger (if available).\n",
    "\n",
    "Embarked: The port of embarkation (C = Cherbourg, Q = Queenstown, S = Southampton).\n",
    "\n"
   ]
  },
  {
   "cell_type": "markdown",
   "id": "f68e70eb",
   "metadata": {
    "papermill": {
     "duration": 0.014854,
     "end_time": "2023-07-14T03:30:17.213852",
     "exception": false,
     "start_time": "2023-07-14T03:30:17.198998",
     "status": "completed"
    },
    "tags": []
   },
   "source": [
    "# Preperation and Visulization."
   ]
  },
  {
   "cell_type": "code",
   "execution_count": 1,
   "id": "361d1eeb",
   "metadata": {
    "execution": {
     "iopub.execute_input": "2023-07-14T03:30:17.245449Z",
     "iopub.status.busy": "2023-07-14T03:30:17.245032Z",
     "iopub.status.idle": "2023-07-14T03:30:19.216796Z",
     "shell.execute_reply": "2023-07-14T03:30:19.215633Z"
    },
    "papermill": {
     "duration": 1.990845,
     "end_time": "2023-07-14T03:30:19.219642",
     "exception": false,
     "start_time": "2023-07-14T03:30:17.228797",
     "status": "completed"
    },
    "tags": []
   },
   "outputs": [
    {
     "name": "stderr",
     "output_type": "stream",
     "text": [
      "/opt/conda/lib/python3.10/site-packages/scipy/__init__.py:146: UserWarning: A NumPy version >=1.16.5 and <1.23.0 is required for this version of SciPy (detected version 1.23.5\n",
      "  warnings.warn(f\"A NumPy version >={np_minversion} and <{np_maxversion}\"\n"
     ]
    }
   ],
   "source": [
    "# Import libraries.\n",
    "import pandas as pd \n",
    "import seaborn as sns\n",
    "import matplotlib.pyplot as plt\n",
    "from sklearn.preprocessing import LabelEncoder, StandardScaler\n",
    "from sklearn.model_selection import train_test_split\n",
    "from sklearn.linear_model import LogisticRegression\n",
    "from sklearn.tree import DecisionTreeClassifier\n",
    "from sklearn.ensemble import RandomForestClassifier\n",
    "from sklearn.svm import SVC\n",
    "from sklearn.model_selection import cross_val_score\n",
    "from sklearn.metrics import accuracy_score\n",
    "from sklearn.model_selection import GridSearchCV"
   ]
  },
  {
   "cell_type": "code",
   "execution_count": 2,
   "id": "61464114",
   "metadata": {
    "execution": {
     "iopub.execute_input": "2023-07-14T03:30:19.252308Z",
     "iopub.status.busy": "2023-07-14T03:30:19.251899Z",
     "iopub.status.idle": "2023-07-14T03:30:19.282741Z",
     "shell.execute_reply": "2023-07-14T03:30:19.281626Z"
    },
    "papermill": {
     "duration": 0.050014,
     "end_time": "2023-07-14T03:30:19.285253",
     "exception": false,
     "start_time": "2023-07-14T03:30:19.235239",
     "status": "completed"
    },
    "tags": []
   },
   "outputs": [],
   "source": [
    "# Load the training dataset.\n",
    "train = pd.read_csv('/kaggle/input/titanic/train.csv')\n",
    "\n",
    "# Load the test dataset.\n",
    "test = pd.read_csv('/kaggle/input/titanic/test.csv')"
   ]
  },
  {
   "cell_type": "code",
   "execution_count": 3,
   "id": "018fe928",
   "metadata": {
    "execution": {
     "iopub.execute_input": "2023-07-14T03:30:19.317538Z",
     "iopub.status.busy": "2023-07-14T03:30:19.316874Z",
     "iopub.status.idle": "2023-07-14T03:30:19.341722Z",
     "shell.execute_reply": "2023-07-14T03:30:19.340939Z"
    },
    "papermill": {
     "duration": 0.043252,
     "end_time": "2023-07-14T03:30:19.343769",
     "exception": false,
     "start_time": "2023-07-14T03:30:19.300517",
     "status": "completed"
    },
    "tags": []
   },
   "outputs": [
    {
     "data": {
      "text/html": [
       "<div>\n",
       "<style scoped>\n",
       "    .dataframe tbody tr th:only-of-type {\n",
       "        vertical-align: middle;\n",
       "    }\n",
       "\n",
       "    .dataframe tbody tr th {\n",
       "        vertical-align: top;\n",
       "    }\n",
       "\n",
       "    .dataframe thead th {\n",
       "        text-align: right;\n",
       "    }\n",
       "</style>\n",
       "<table border=\"1\" class=\"dataframe\">\n",
       "  <thead>\n",
       "    <tr style=\"text-align: right;\">\n",
       "      <th></th>\n",
       "      <th>PassengerId</th>\n",
       "      <th>Survived</th>\n",
       "      <th>Pclass</th>\n",
       "      <th>Name</th>\n",
       "      <th>Sex</th>\n",
       "      <th>Age</th>\n",
       "      <th>SibSp</th>\n",
       "      <th>Parch</th>\n",
       "      <th>Ticket</th>\n",
       "      <th>Fare</th>\n",
       "      <th>Cabin</th>\n",
       "      <th>Embarked</th>\n",
       "    </tr>\n",
       "  </thead>\n",
       "  <tbody>\n",
       "    <tr>\n",
       "      <th>0</th>\n",
       "      <td>1</td>\n",
       "      <td>0</td>\n",
       "      <td>3</td>\n",
       "      <td>Braund, Mr. Owen Harris</td>\n",
       "      <td>male</td>\n",
       "      <td>22.0</td>\n",
       "      <td>1</td>\n",
       "      <td>0</td>\n",
       "      <td>A/5 21171</td>\n",
       "      <td>7.2500</td>\n",
       "      <td>NaN</td>\n",
       "      <td>S</td>\n",
       "    </tr>\n",
       "    <tr>\n",
       "      <th>1</th>\n",
       "      <td>2</td>\n",
       "      <td>1</td>\n",
       "      <td>1</td>\n",
       "      <td>Cumings, Mrs. John Bradley (Florence Briggs Th...</td>\n",
       "      <td>female</td>\n",
       "      <td>38.0</td>\n",
       "      <td>1</td>\n",
       "      <td>0</td>\n",
       "      <td>PC 17599</td>\n",
       "      <td>71.2833</td>\n",
       "      <td>C85</td>\n",
       "      <td>C</td>\n",
       "    </tr>\n",
       "    <tr>\n",
       "      <th>2</th>\n",
       "      <td>3</td>\n",
       "      <td>1</td>\n",
       "      <td>3</td>\n",
       "      <td>Heikkinen, Miss. Laina</td>\n",
       "      <td>female</td>\n",
       "      <td>26.0</td>\n",
       "      <td>0</td>\n",
       "      <td>0</td>\n",
       "      <td>STON/O2. 3101282</td>\n",
       "      <td>7.9250</td>\n",
       "      <td>NaN</td>\n",
       "      <td>S</td>\n",
       "    </tr>\n",
       "    <tr>\n",
       "      <th>3</th>\n",
       "      <td>4</td>\n",
       "      <td>1</td>\n",
       "      <td>1</td>\n",
       "      <td>Futrelle, Mrs. Jacques Heath (Lily May Peel)</td>\n",
       "      <td>female</td>\n",
       "      <td>35.0</td>\n",
       "      <td>1</td>\n",
       "      <td>0</td>\n",
       "      <td>113803</td>\n",
       "      <td>53.1000</td>\n",
       "      <td>C123</td>\n",
       "      <td>S</td>\n",
       "    </tr>\n",
       "    <tr>\n",
       "      <th>4</th>\n",
       "      <td>5</td>\n",
       "      <td>0</td>\n",
       "      <td>3</td>\n",
       "      <td>Allen, Mr. William Henry</td>\n",
       "      <td>male</td>\n",
       "      <td>35.0</td>\n",
       "      <td>0</td>\n",
       "      <td>0</td>\n",
       "      <td>373450</td>\n",
       "      <td>8.0500</td>\n",
       "      <td>NaN</td>\n",
       "      <td>S</td>\n",
       "    </tr>\n",
       "  </tbody>\n",
       "</table>\n",
       "</div>"
      ],
      "text/plain": [
       "   PassengerId  Survived  Pclass  \\\n",
       "0            1         0       3   \n",
       "1            2         1       1   \n",
       "2            3         1       3   \n",
       "3            4         1       1   \n",
       "4            5         0       3   \n",
       "\n",
       "                                                Name     Sex   Age  SibSp  \\\n",
       "0                            Braund, Mr. Owen Harris    male  22.0      1   \n",
       "1  Cumings, Mrs. John Bradley (Florence Briggs Th...  female  38.0      1   \n",
       "2                             Heikkinen, Miss. Laina  female  26.0      0   \n",
       "3       Futrelle, Mrs. Jacques Heath (Lily May Peel)  female  35.0      1   \n",
       "4                           Allen, Mr. William Henry    male  35.0      0   \n",
       "\n",
       "   Parch            Ticket     Fare Cabin Embarked  \n",
       "0      0         A/5 21171   7.2500   NaN        S  \n",
       "1      0          PC 17599  71.2833   C85        C  \n",
       "2      0  STON/O2. 3101282   7.9250   NaN        S  \n",
       "3      0            113803  53.1000  C123        S  \n",
       "4      0            373450   8.0500   NaN        S  "
      ]
     },
     "execution_count": 3,
     "metadata": {},
     "output_type": "execute_result"
    }
   ],
   "source": [
    "# See the first 5 rows in the data.\n",
    "train.head()"
   ]
  },
  {
   "cell_type": "code",
   "execution_count": 4,
   "id": "66cbe02c",
   "metadata": {
    "execution": {
     "iopub.execute_input": "2023-07-14T03:30:19.377192Z",
     "iopub.status.busy": "2023-07-14T03:30:19.376216Z",
     "iopub.status.idle": "2023-07-14T03:30:19.402665Z",
     "shell.execute_reply": "2023-07-14T03:30:19.401255Z"
    },
    "papermill": {
     "duration": 0.045674,
     "end_time": "2023-07-14T03:30:19.404927",
     "exception": false,
     "start_time": "2023-07-14T03:30:19.359253",
     "status": "completed"
    },
    "tags": []
   },
   "outputs": [
    {
     "name": "stdout",
     "output_type": "stream",
     "text": [
      "<class 'pandas.core.frame.DataFrame'>\n",
      "RangeIndex: 891 entries, 0 to 890\n",
      "Data columns (total 12 columns):\n",
      " #   Column       Non-Null Count  Dtype  \n",
      "---  ------       --------------  -----  \n",
      " 0   PassengerId  891 non-null    int64  \n",
      " 1   Survived     891 non-null    int64  \n",
      " 2   Pclass       891 non-null    int64  \n",
      " 3   Name         891 non-null    object \n",
      " 4   Sex          891 non-null    object \n",
      " 5   Age          714 non-null    float64\n",
      " 6   SibSp        891 non-null    int64  \n",
      " 7   Parch        891 non-null    int64  \n",
      " 8   Ticket       891 non-null    object \n",
      " 9   Fare         891 non-null    float64\n",
      " 10  Cabin        204 non-null    object \n",
      " 11  Embarked     889 non-null    object \n",
      "dtypes: float64(2), int64(5), object(5)\n",
      "memory usage: 83.7+ KB\n"
     ]
    }
   ],
   "source": [
    "# Seeing the data information. \n",
    "train.info()"
   ]
  },
  {
   "cell_type": "markdown",
   "id": "4bbeac81",
   "metadata": {
    "papermill": {
     "duration": 0.01532,
     "end_time": "2023-07-14T03:30:19.435754",
     "exception": false,
     "start_time": "2023-07-14T03:30:19.420434",
     "status": "completed"
    },
    "tags": []
   },
   "source": [
    "### Handle the missing data."
   ]
  },
  {
   "cell_type": "code",
   "execution_count": 5,
   "id": "a1ee2077",
   "metadata": {
    "execution": {
     "iopub.execute_input": "2023-07-14T03:30:19.468786Z",
     "iopub.status.busy": "2023-07-14T03:30:19.468369Z",
     "iopub.status.idle": "2023-07-14T03:30:19.479035Z",
     "shell.execute_reply": "2023-07-14T03:30:19.477931Z"
    },
    "papermill": {
     "duration": 0.029697,
     "end_time": "2023-07-14T03:30:19.481151",
     "exception": false,
     "start_time": "2023-07-14T03:30:19.451454",
     "status": "completed"
    },
    "tags": []
   },
   "outputs": [
    {
     "data": {
      "text/plain": [
       "PassengerId      0\n",
       "Survived         0\n",
       "Pclass           0\n",
       "Name             0\n",
       "Sex              0\n",
       "Age            177\n",
       "SibSp            0\n",
       "Parch            0\n",
       "Ticket           0\n",
       "Fare             0\n",
       "Cabin          687\n",
       "Embarked         2\n",
       "dtype: int64"
      ]
     },
     "execution_count": 5,
     "metadata": {},
     "output_type": "execute_result"
    }
   ],
   "source": [
    "# How many null values in the data?\n",
    "train.isna().sum()"
   ]
  },
  {
   "cell_type": "code",
   "execution_count": 6,
   "id": "2defbb5d",
   "metadata": {
    "execution": {
     "iopub.execute_input": "2023-07-14T03:30:19.513601Z",
     "iopub.status.busy": "2023-07-14T03:30:19.513193Z",
     "iopub.status.idle": "2023-07-14T03:30:19.519418Z",
     "shell.execute_reply": "2023-07-14T03:30:19.518413Z"
    },
    "papermill": {
     "duration": 0.025227,
     "end_time": "2023-07-14T03:30:19.521633",
     "exception": false,
     "start_time": "2023-07-14T03:30:19.496406",
     "status": "completed"
    },
    "tags": []
   },
   "outputs": [
    {
     "data": {
      "text/plain": [
       "(891, 12)"
      ]
     },
     "execution_count": 6,
     "metadata": {},
     "output_type": "execute_result"
    }
   ],
   "source": [
    "# Seeing the size of the data.\n",
    "train.shape"
   ]
  },
  {
   "cell_type": "markdown",
   "id": "8b1500b9",
   "metadata": {
    "execution": {
     "iopub.execute_input": "2023-07-13T15:19:31.487395Z",
     "iopub.status.busy": "2023-07-13T15:19:31.486891Z",
     "iopub.status.idle": "2023-07-13T15:19:31.499369Z",
     "shell.execute_reply": "2023-07-13T15:19:31.498019Z",
     "shell.execute_reply.started": "2023-07-13T15:19:31.487365Z"
    },
    "papermill": {
     "duration": 0.015191,
     "end_time": "2023-07-14T03:30:19.552250",
     "exception": false,
     "start_time": "2023-07-14T03:30:19.537059",
     "status": "completed"
    },
    "tags": []
   },
   "source": [
    "Cabin has 687 null value and all the data is 891 that is, about 77% of the data so we will drop this column, \n",
    "Embarked has just 2 null values so we delet these rows and Age has 177 null values so we will fill them."
   ]
  },
  {
   "cell_type": "code",
   "execution_count": 7,
   "id": "778c8743",
   "metadata": {
    "execution": {
     "iopub.execute_input": "2023-07-14T03:30:19.585894Z",
     "iopub.status.busy": "2023-07-14T03:30:19.584935Z",
     "iopub.status.idle": "2023-07-14T03:30:19.608415Z",
     "shell.execute_reply": "2023-07-14T03:30:19.607216Z"
    },
    "papermill": {
     "duration": 0.042551,
     "end_time": "2023-07-14T03:30:19.610652",
     "exception": false,
     "start_time": "2023-07-14T03:30:19.568101",
     "status": "completed"
    },
    "tags": []
   },
   "outputs": [
    {
     "data": {
      "text/html": [
       "<div>\n",
       "<style scoped>\n",
       "    .dataframe tbody tr th:only-of-type {\n",
       "        vertical-align: middle;\n",
       "    }\n",
       "\n",
       "    .dataframe tbody tr th {\n",
       "        vertical-align: top;\n",
       "    }\n",
       "\n",
       "    .dataframe thead th {\n",
       "        text-align: right;\n",
       "    }\n",
       "</style>\n",
       "<table border=\"1\" class=\"dataframe\">\n",
       "  <thead>\n",
       "    <tr style=\"text-align: right;\">\n",
       "      <th></th>\n",
       "      <th>Survived</th>\n",
       "      <th>Pclass</th>\n",
       "      <th>Sex</th>\n",
       "      <th>Age</th>\n",
       "      <th>SibSp</th>\n",
       "      <th>Parch</th>\n",
       "      <th>Fare</th>\n",
       "      <th>Embarked</th>\n",
       "    </tr>\n",
       "  </thead>\n",
       "  <tbody>\n",
       "    <tr>\n",
       "      <th>0</th>\n",
       "      <td>0</td>\n",
       "      <td>3</td>\n",
       "      <td>male</td>\n",
       "      <td>22.0</td>\n",
       "      <td>1</td>\n",
       "      <td>0</td>\n",
       "      <td>7.2500</td>\n",
       "      <td>S</td>\n",
       "    </tr>\n",
       "    <tr>\n",
       "      <th>1</th>\n",
       "      <td>1</td>\n",
       "      <td>1</td>\n",
       "      <td>female</td>\n",
       "      <td>38.0</td>\n",
       "      <td>1</td>\n",
       "      <td>0</td>\n",
       "      <td>71.2833</td>\n",
       "      <td>C</td>\n",
       "    </tr>\n",
       "    <tr>\n",
       "      <th>2</th>\n",
       "      <td>1</td>\n",
       "      <td>3</td>\n",
       "      <td>female</td>\n",
       "      <td>26.0</td>\n",
       "      <td>0</td>\n",
       "      <td>0</td>\n",
       "      <td>7.9250</td>\n",
       "      <td>S</td>\n",
       "    </tr>\n",
       "    <tr>\n",
       "      <th>3</th>\n",
       "      <td>1</td>\n",
       "      <td>1</td>\n",
       "      <td>female</td>\n",
       "      <td>35.0</td>\n",
       "      <td>1</td>\n",
       "      <td>0</td>\n",
       "      <td>53.1000</td>\n",
       "      <td>S</td>\n",
       "    </tr>\n",
       "    <tr>\n",
       "      <th>4</th>\n",
       "      <td>0</td>\n",
       "      <td>3</td>\n",
       "      <td>male</td>\n",
       "      <td>35.0</td>\n",
       "      <td>0</td>\n",
       "      <td>0</td>\n",
       "      <td>8.0500</td>\n",
       "      <td>S</td>\n",
       "    </tr>\n",
       "    <tr>\n",
       "      <th>...</th>\n",
       "      <td>...</td>\n",
       "      <td>...</td>\n",
       "      <td>...</td>\n",
       "      <td>...</td>\n",
       "      <td>...</td>\n",
       "      <td>...</td>\n",
       "      <td>...</td>\n",
       "      <td>...</td>\n",
       "    </tr>\n",
       "    <tr>\n",
       "      <th>886</th>\n",
       "      <td>0</td>\n",
       "      <td>2</td>\n",
       "      <td>male</td>\n",
       "      <td>27.0</td>\n",
       "      <td>0</td>\n",
       "      <td>0</td>\n",
       "      <td>13.0000</td>\n",
       "      <td>S</td>\n",
       "    </tr>\n",
       "    <tr>\n",
       "      <th>887</th>\n",
       "      <td>1</td>\n",
       "      <td>1</td>\n",
       "      <td>female</td>\n",
       "      <td>19.0</td>\n",
       "      <td>0</td>\n",
       "      <td>0</td>\n",
       "      <td>30.0000</td>\n",
       "      <td>S</td>\n",
       "    </tr>\n",
       "    <tr>\n",
       "      <th>888</th>\n",
       "      <td>0</td>\n",
       "      <td>3</td>\n",
       "      <td>female</td>\n",
       "      <td>NaN</td>\n",
       "      <td>1</td>\n",
       "      <td>2</td>\n",
       "      <td>23.4500</td>\n",
       "      <td>S</td>\n",
       "    </tr>\n",
       "    <tr>\n",
       "      <th>889</th>\n",
       "      <td>1</td>\n",
       "      <td>1</td>\n",
       "      <td>male</td>\n",
       "      <td>26.0</td>\n",
       "      <td>0</td>\n",
       "      <td>0</td>\n",
       "      <td>30.0000</td>\n",
       "      <td>C</td>\n",
       "    </tr>\n",
       "    <tr>\n",
       "      <th>890</th>\n",
       "      <td>0</td>\n",
       "      <td>3</td>\n",
       "      <td>male</td>\n",
       "      <td>32.0</td>\n",
       "      <td>0</td>\n",
       "      <td>0</td>\n",
       "      <td>7.7500</td>\n",
       "      <td>Q</td>\n",
       "    </tr>\n",
       "  </tbody>\n",
       "</table>\n",
       "<p>891 rows × 8 columns</p>\n",
       "</div>"
      ],
      "text/plain": [
       "     Survived  Pclass     Sex   Age  SibSp  Parch     Fare Embarked\n",
       "0           0       3    male  22.0      1      0   7.2500        S\n",
       "1           1       1  female  38.0      1      0  71.2833        C\n",
       "2           1       3  female  26.0      0      0   7.9250        S\n",
       "3           1       1  female  35.0      1      0  53.1000        S\n",
       "4           0       3    male  35.0      0      0   8.0500        S\n",
       "..        ...     ...     ...   ...    ...    ...      ...      ...\n",
       "886         0       2    male  27.0      0      0  13.0000        S\n",
       "887         1       1  female  19.0      0      0  30.0000        S\n",
       "888         0       3  female   NaN      1      2  23.4500        S\n",
       "889         1       1    male  26.0      0      0  30.0000        C\n",
       "890         0       3    male  32.0      0      0   7.7500        Q\n",
       "\n",
       "[891 rows x 8 columns]"
      ]
     },
     "execution_count": 7,
     "metadata": {},
     "output_type": "execute_result"
    }
   ],
   "source": [
    "# Drop unimportant data.\n",
    "train.drop(['PassengerId', 'Name', 'Ticket', 'Cabin'], axis=1, inplace=True)\n",
    "train"
   ]
  },
  {
   "cell_type": "code",
   "execution_count": 8,
   "id": "8634800e",
   "metadata": {
    "execution": {
     "iopub.execute_input": "2023-07-14T03:30:19.646294Z",
     "iopub.status.busy": "2023-07-14T03:30:19.645257Z",
     "iopub.status.idle": "2023-07-14T03:30:19.653121Z",
     "shell.execute_reply": "2023-07-14T03:30:19.652472Z"
    },
    "papermill": {
     "duration": 0.028217,
     "end_time": "2023-07-14T03:30:19.655323",
     "exception": false,
     "start_time": "2023-07-14T03:30:19.627106",
     "status": "completed"
    },
    "tags": []
   },
   "outputs": [],
   "source": [
    "# Drop the rows that have null values in Embarked.\n",
    "train.dropna(subset = [\"Embarked\"], inplace=True)"
   ]
  },
  {
   "cell_type": "code",
   "execution_count": 9,
   "id": "8fe8e035",
   "metadata": {
    "execution": {
     "iopub.execute_input": "2023-07-14T03:30:19.690779Z",
     "iopub.status.busy": "2023-07-14T03:30:19.689662Z",
     "iopub.status.idle": "2023-07-14T03:30:20.053065Z",
     "shell.execute_reply": "2023-07-14T03:30:20.051908Z"
    },
    "papermill": {
     "duration": 0.382986,
     "end_time": "2023-07-14T03:30:20.055420",
     "exception": false,
     "start_time": "2023-07-14T03:30:19.672434",
     "status": "completed"
    },
    "tags": []
   },
   "outputs": [
    {
     "data": {
      "text/plain": [
       "<Axes: xlabel='Age', ylabel='Count'>"
      ]
     },
     "execution_count": 9,
     "metadata": {},
     "output_type": "execute_result"
    },
    {
     "data": {
      "image/png": "[encoded data removed]",
      "text/plain": [
       "<Figure size 640x480 with 1 Axes>"
      ]
     },
     "metadata": {},
     "output_type": "display_data"
    }
   ],
   "source": [
    "# Seeing the histogram for age.\n",
    "sns.histplot(train['Age'])"
   ]
  },
  {
   "cell_type": "markdown",
   "id": "0205a15a",
   "metadata": {
    "papermill": {
     "duration": 0.016454,
     "end_time": "2023-07-14T03:30:20.088924",
     "exception": false,
     "start_time": "2023-07-14T03:30:20.072470",
     "status": "completed"
    },
    "tags": []
   },
   "source": [
    "The histogram is almost normal so we fill the null values for age with the mean."
   ]
  },
  {
   "cell_type": "code",
   "execution_count": 10,
   "id": "4b508da2",
   "metadata": {
    "execution": {
     "iopub.execute_input": "2023-07-14T03:30:20.124249Z",
     "iopub.status.busy": "2023-07-14T03:30:20.123856Z",
     "iopub.status.idle": "2023-07-14T03:30:20.132783Z",
     "shell.execute_reply": "2023-07-14T03:30:20.131734Z"
    },
    "papermill": {
     "duration": 0.029603,
     "end_time": "2023-07-14T03:30:20.135154",
     "exception": false,
     "start_time": "2023-07-14T03:30:20.105551",
     "status": "completed"
    },
    "tags": []
   },
   "outputs": [
    {
     "data": {
      "text/plain": [
       "30.72664459161148"
      ]
     },
     "execution_count": 10,
     "metadata": {},
     "output_type": "execute_result"
    }
   ],
   "source": [
    "# Calculate the mean for male.\n",
    "mean_male = train.loc[train['Sex'] == 'male', 'Age'].mean()\n",
    "mean_male"
   ]
  },
  {
   "cell_type": "code",
   "execution_count": 11,
   "id": "8d6280d4",
   "metadata": {
    "execution": {
     "iopub.execute_input": "2023-07-14T03:30:20.171126Z",
     "iopub.status.busy": "2023-07-14T03:30:20.170510Z",
     "iopub.status.idle": "2023-07-14T03:30:20.178470Z",
     "shell.execute_reply": "2023-07-14T03:30:20.177413Z"
    },
    "papermill": {
     "duration": 0.028274,
     "end_time": "2023-07-14T03:30:20.180566",
     "exception": false,
     "start_time": "2023-07-14T03:30:20.152292",
     "status": "completed"
    },
    "tags": []
   },
   "outputs": [
    {
     "data": {
      "text/plain": [
       "27.745173745173744"
      ]
     },
     "execution_count": 11,
     "metadata": {},
     "output_type": "execute_result"
    }
   ],
   "source": [
    "# Calculate the mean for female.\n",
    "mean_female = train.loc[train['Sex'] == 'female', 'Age'].mean()\n",
    "mean_female"
   ]
  },
  {
   "cell_type": "code",
   "execution_count": 12,
   "id": "b6405a43",
   "metadata": {
    "execution": {
     "iopub.execute_input": "2023-07-14T03:30:20.215259Z",
     "iopub.status.busy": "2023-07-14T03:30:20.214894Z",
     "iopub.status.idle": "2023-07-14T03:30:20.224786Z",
     "shell.execute_reply": "2023-07-14T03:30:20.224048Z"
    },
    "papermill": {
     "duration": 0.029674,
     "end_time": "2023-07-14T03:30:20.226902",
     "exception": false,
     "start_time": "2023-07-14T03:30:20.197228",
     "status": "completed"
    },
    "tags": []
   },
   "outputs": [],
   "source": [
    "# Fill the null values in age column for male with their mean.\n",
    "train.loc[train['Sex'] == 'male', 'Age'] = train[train['Sex'] == 'male']['Age'].fillna(value = mean_male)\n",
    "\n",
    "# Fill the null values in age column for female with their mean.\n",
    "train.loc[train['Sex'] == 'female', 'Age'] = train[train['Sex'] == 'female']['Age'].fillna(value = mean_female)"
   ]
  },
  {
   "cell_type": "code",
   "execution_count": 13,
   "id": "d8b10650",
   "metadata": {
    "execution": {
     "iopub.execute_input": "2023-07-14T03:30:20.262394Z",
     "iopub.status.busy": "2023-07-14T03:30:20.261709Z",
     "iopub.status.idle": "2023-07-14T03:30:20.271627Z",
     "shell.execute_reply": "2023-07-14T03:30:20.270504Z"
    },
    "papermill": {
     "duration": 0.030102,
     "end_time": "2023-07-14T03:30:20.273790",
     "exception": false,
     "start_time": "2023-07-14T03:30:20.243688",
     "status": "completed"
    },
    "tags": []
   },
   "outputs": [
    {
     "data": {
      "text/plain": [
       "Survived    0\n",
       "Pclass      0\n",
       "Sex         0\n",
       "Age         0\n",
       "SibSp       0\n",
       "Parch       0\n",
       "Fare        0\n",
       "Embarked    0\n",
       "dtype: int64"
      ]
     },
     "execution_count": 13,
     "metadata": {},
     "output_type": "execute_result"
    }
   ],
   "source": [
    "train.isna().sum()"
   ]
  },
  {
   "cell_type": "markdown",
   "id": "6351071c",
   "metadata": {
    "papermill": {
     "duration": 0.01682,
     "end_time": "2023-07-14T03:30:20.307926",
     "exception": false,
     "start_time": "2023-07-14T03:30:20.291106",
     "status": "completed"
    },
    "tags": []
   },
   "source": [
    "### Seeing the relation between survived and other features."
   ]
  },
  {
   "cell_type": "code",
   "execution_count": 14,
   "id": "7e1f6d63",
   "metadata": {
    "execution": {
     "iopub.execute_input": "2023-07-14T03:30:20.342738Z",
     "iopub.status.busy": "2023-07-14T03:30:20.342361Z",
     "iopub.status.idle": "2023-07-14T03:30:26.371372Z",
     "shell.execute_reply": "2023-07-14T03:30:26.370397Z"
    },
    "papermill": {
     "duration": 6.048719,
     "end_time": "2023-07-14T03:30:26.373568",
     "exception": false,
     "start_time": "2023-07-14T03:30:20.324849",
     "status": "completed"
    },
    "tags": []
   },
   "outputs": [
    {
     "data": {
      "image/png": "[encoded data removed]",
      "text/plain": [
       "<Figure size 640x480 with 1 Axes>"
      ]
     },
     "metadata": {},
     "output_type": "display_data"
    },
    {
     "data": {
      "image/png": "[encoded data removed]",
      "text/plain": [
       "<Figure size 640x480 with 1 Axes>"
      ]
     },
     "metadata": {},
     "output_type": "display_data"
    },
    {
     "data": {
      "image/png": "[encoded data removed]",
      "text/plain": [
       "<Figure size 640x480 with 1 Axes>"
      ]
     },
     "metadata": {},
     "output_type": "display_data"
    },
    {
     "data": {
      "image/png": "[encoded data removed]",
      "text/plain": [
       "<Figure size 640x480 with 1 Axes>"
      ]
     },
     "metadata": {},
     "output_type": "display_data"
    },
    {
     "data": {
      "image/png": "[encoded data removed]",
      "text/plain": [
       "<Figure size 640x480 with 1 Axes>"
      ]
     },
     "metadata": {},
     "output_type": "display_data"
    },
    {
     "data": {
      "image/png": "[encoded data removed]",
      "text/plain": [
       "<Figure size 640x480 with 1 Axes>"
      ]
     },
     "metadata": {},
     "output_type": "display_data"
    },
    {
     "data": {
      "image/png": "[encoded data removed]",
      "text/plain": [
       "<Figure size 640x480 with 1 Axes>"
      ]
     },
     "metadata": {},
     "output_type": "display_data"
    }
   ],
   "source": [
    "# Plot graphs that show the number of passengers who survived and who did not survive for each columns.\n",
    "for feature in ['Pclass', 'Sex', 'Age', 'SibSp', 'Parch', 'Fare', 'Embarked']:\n",
    "    title='Survival Count by ' + feature\n",
    "    sns.countplot(data=train, x=feature, hue='Survived')\n",
    "    plt.title(title)\n",
    "    plt.show()"
   ]
  },
  {
   "cell_type": "markdown",
   "id": "1157ee14",
   "metadata": {
    "papermill": {
     "duration": 0.019459,
     "end_time": "2023-07-14T03:30:26.412488",
     "exception": false,
     "start_time": "2023-07-14T03:30:26.393029",
     "status": "completed"
    },
    "tags": []
   },
   "source": [
    "Shown in figers that \"Sibsp and Parch\" They are not very influential so we will drop those columns."
   ]
  },
  {
   "cell_type": "code",
   "execution_count": 15,
   "id": "28fd2935",
   "metadata": {
    "execution": {
     "iopub.execute_input": "2023-07-14T03:30:26.453943Z",
     "iopub.status.busy": "2023-07-14T03:30:26.453357Z",
     "iopub.status.idle": "2023-07-14T03:30:26.458679Z",
     "shell.execute_reply": "2023-07-14T03:30:26.457739Z"
    },
    "papermill": {
     "duration": 0.028702,
     "end_time": "2023-07-14T03:30:26.460828",
     "exception": false,
     "start_time": "2023-07-14T03:30:26.432126",
     "status": "completed"
    },
    "tags": []
   },
   "outputs": [],
   "source": [
    "# Drop Sibsp and Parch columns.\n",
    "train.drop(['SibSp', 'Parch'], axis=1, inplace= True)"
   ]
  },
  {
   "cell_type": "code",
   "execution_count": 16,
   "id": "b80c61bb",
   "metadata": {
    "execution": {
     "iopub.execute_input": "2023-07-14T03:30:26.502311Z",
     "iopub.status.busy": "2023-07-14T03:30:26.501238Z",
     "iopub.status.idle": "2023-07-14T03:30:26.511980Z",
     "shell.execute_reply": "2023-07-14T03:30:26.510816Z"
    },
    "papermill": {
     "duration": 0.033817,
     "end_time": "2023-07-14T03:30:26.514334",
     "exception": false,
     "start_time": "2023-07-14T03:30:26.480517",
     "status": "completed"
    },
    "tags": []
   },
   "outputs": [],
   "source": [
    "# Encode categorical variables.\n",
    "train.replace({'Sex': {'male': 0, 'female': 1},\n",
    "                   'Embarked': {'S': 0, 'Q': 1, 'C': 2}}, inplace=True)"
   ]
  },
  {
   "cell_type": "code",
   "execution_count": 17,
   "id": "d8e59244",
   "metadata": {
    "execution": {
     "iopub.execute_input": "2023-07-14T03:30:26.554854Z",
     "iopub.status.busy": "2023-07-14T03:30:26.554458Z",
     "iopub.status.idle": "2023-07-14T03:30:26.567420Z",
     "shell.execute_reply": "2023-07-14T03:30:26.566636Z"
    },
    "papermill": {
     "duration": 0.036202,
     "end_time": "2023-07-14T03:30:26.569390",
     "exception": false,
     "start_time": "2023-07-14T03:30:26.533188",
     "status": "completed"
    },
    "tags": []
   },
   "outputs": [
    {
     "data": {
      "text/html": [
       "<div>\n",
       "<style scoped>\n",
       "    .dataframe tbody tr th:only-of-type {\n",
       "        vertical-align: middle;\n",
       "    }\n",
       "\n",
       "    .dataframe tbody tr th {\n",
       "        vertical-align: top;\n",
       "    }\n",
       "\n",
       "    .dataframe thead th {\n",
       "        text-align: right;\n",
       "    }\n",
       "</style>\n",
       "<table border=\"1\" class=\"dataframe\">\n",
       "  <thead>\n",
       "    <tr style=\"text-align: right;\">\n",
       "      <th></th>\n",
       "      <th>Survived</th>\n",
       "      <th>Pclass</th>\n",
       "      <th>Sex</th>\n",
       "      <th>Age</th>\n",
       "      <th>Fare</th>\n",
       "      <th>Embarked</th>\n",
       "    </tr>\n",
       "  </thead>\n",
       "  <tbody>\n",
       "    <tr>\n",
       "      <th>0</th>\n",
       "      <td>0</td>\n",
       "      <td>3</td>\n",
       "      <td>0</td>\n",
       "      <td>22.0</td>\n",
       "      <td>7.2500</td>\n",
       "      <td>0</td>\n",
       "    </tr>\n",
       "    <tr>\n",
       "      <th>1</th>\n",
       "      <td>1</td>\n",
       "      <td>1</td>\n",
       "      <td>1</td>\n",
       "      <td>38.0</td>\n",
       "      <td>71.2833</td>\n",
       "      <td>2</td>\n",
       "    </tr>\n",
       "    <tr>\n",
       "      <th>2</th>\n",
       "      <td>1</td>\n",
       "      <td>3</td>\n",
       "      <td>1</td>\n",
       "      <td>26.0</td>\n",
       "      <td>7.9250</td>\n",
       "      <td>0</td>\n",
       "    </tr>\n",
       "    <tr>\n",
       "      <th>3</th>\n",
       "      <td>1</td>\n",
       "      <td>1</td>\n",
       "      <td>1</td>\n",
       "      <td>35.0</td>\n",
       "      <td>53.1000</td>\n",
       "      <td>0</td>\n",
       "    </tr>\n",
       "    <tr>\n",
       "      <th>4</th>\n",
       "      <td>0</td>\n",
       "      <td>3</td>\n",
       "      <td>0</td>\n",
       "      <td>35.0</td>\n",
       "      <td>8.0500</td>\n",
       "      <td>0</td>\n",
       "    </tr>\n",
       "  </tbody>\n",
       "</table>\n",
       "</div>"
      ],
      "text/plain": [
       "   Survived  Pclass  Sex   Age     Fare  Embarked\n",
       "0         0       3    0  22.0   7.2500         0\n",
       "1         1       1    1  38.0  71.2833         2\n",
       "2         1       3    1  26.0   7.9250         0\n",
       "3         1       1    1  35.0  53.1000         0\n",
       "4         0       3    0  35.0   8.0500         0"
      ]
     },
     "execution_count": 17,
     "metadata": {},
     "output_type": "execute_result"
    }
   ],
   "source": [
    "train.head()"
   ]
  },
  {
   "cell_type": "markdown",
   "id": "b8bc674b",
   "metadata": {
    "papermill": {
     "duration": 0.018559,
     "end_time": "2023-07-14T03:30:26.607166",
     "exception": false,
     "start_time": "2023-07-14T03:30:26.588607",
     "status": "completed"
    },
    "tags": []
   },
   "source": [
    "### Scale numerical variables."
   ]
  },
  {
   "cell_type": "code",
   "execution_count": 18,
   "id": "4bd07c90",
   "metadata": {
    "execution": {
     "iopub.execute_input": "2023-07-14T03:30:26.646511Z",
     "iopub.status.busy": "2023-07-14T03:30:26.645427Z",
     "iopub.status.idle": "2023-07-14T03:30:26.656798Z",
     "shell.execute_reply": "2023-07-14T03:30:26.655971Z"
    },
    "papermill": {
     "duration": 0.033869,
     "end_time": "2023-07-14T03:30:26.658978",
     "exception": false,
     "start_time": "2023-07-14T03:30:26.625109",
     "status": "completed"
    },
    "tags": []
   },
   "outputs": [],
   "source": [
    "# Select numerical columns to scale.\n",
    "num_cols = ['Age', 'Fare']\n",
    "\n",
    "# Create scaler object.\n",
    "scaler = StandardScaler()\n",
    "\n",
    "# Fit scaler on selected columns.\n",
    "scaler.fit(train[num_cols])\n",
    "\n",
    "# Transform selected columns with scaler.\n",
    "train[num_cols] = scaler.transform(train[num_cols])\n"
   ]
  },
  {
   "cell_type": "code",
   "execution_count": 19,
   "id": "0b73947f",
   "metadata": {
    "execution": {
     "iopub.execute_input": "2023-07-14T03:30:26.701312Z",
     "iopub.status.busy": "2023-07-14T03:30:26.700871Z",
     "iopub.status.idle": "2023-07-14T03:30:26.709117Z",
     "shell.execute_reply": "2023-07-14T03:30:26.708035Z"
    },
    "papermill": {
     "duration": 0.032596,
     "end_time": "2023-07-14T03:30:26.711329",
     "exception": false,
     "start_time": "2023-07-14T03:30:26.678733",
     "status": "completed"
    },
    "tags": []
   },
   "outputs": [],
   "source": [
    "# Split data into x and y.\n",
    "X = train.drop('Survived', axis=1)\n",
    "y = train['Survived']\n",
    "\n",
    "# Split train data into train and test.\n",
    "X_train, X_test, y_train, y_test = train_test_split(X, y, test_size=0.2, random_state=42)"
   ]
  },
  {
   "cell_type": "markdown",
   "id": "fdd72db4",
   "metadata": {
    "papermill": {
     "duration": 0.01905,
     "end_time": "2023-07-14T03:30:26.749456",
     "exception": false,
     "start_time": "2023-07-14T03:30:26.730406",
     "status": "completed"
    },
    "tags": []
   },
   "source": [
    "# Modeling."
   ]
  },
  {
   "cell_type": "code",
   "execution_count": 20,
   "id": "c72b5d3b",
   "metadata": {
    "execution": {
     "iopub.execute_input": "2023-07-14T03:30:26.790570Z",
     "iopub.status.busy": "2023-07-14T03:30:26.790134Z",
     "iopub.status.idle": "2023-07-14T03:30:26.795523Z",
     "shell.execute_reply": "2023-07-14T03:30:26.794388Z"
    },
    "papermill": {
     "duration": 0.028229,
     "end_time": "2023-07-14T03:30:26.797655",
     "exception": false,
     "start_time": "2023-07-14T03:30:26.769426",
     "status": "completed"
    },
    "tags": []
   },
   "outputs": [],
   "source": [
    "# Initialize the models.\n",
    "models = {\n",
    "    'Logistic Regression': LogisticRegression(),\n",
    "    'Decision Tree': DecisionTreeClassifier(),\n",
    "    'Random Forest': RandomForestClassifier(),\n",
    "    'SVM': SVC()\n",
    "}"
   ]
  },
  {
   "cell_type": "code",
   "execution_count": 21,
   "id": "b8e428c8",
   "metadata": {
    "execution": {
     "iopub.execute_input": "2023-07-14T03:30:26.838739Z",
     "iopub.status.busy": "2023-07-14T03:30:26.838185Z",
     "iopub.status.idle": "2023-07-14T03:30:28.337670Z",
     "shell.execute_reply": "2023-07-14T03:30:28.336122Z"
    },
    "papermill": {
     "duration": 1.522943,
     "end_time": "2023-07-14T03:30:28.340087",
     "exception": false,
     "start_time": "2023-07-14T03:30:26.817144",
     "status": "completed"
    },
    "tags": []
   },
   "outputs": [
    {
     "name": "stdout",
     "output_type": "stream",
     "text": [
      "Logistic Regression Accuracy: 0.79322367773072\n",
      "Decision Tree Accuracy: 0.7834925637742539\n",
      "Random Forest Accuracy: 0.8228503890475721\n",
      "SVM Accuracy: 0.7847926721166157\n"
     ]
    }
   ],
   "source": [
    "# Iterate over each model and evaluate its accuracy using cross-validation.\n",
    "for model_name, model in models.items():\n",
    "    scores = cross_val_score(model, X_train, y_train, cv=5)\n",
    "    accuracy = scores.mean()\n",
    "    print(f'{model_name} Accuracy: {accuracy}')"
   ]
  },
  {
   "cell_type": "markdown",
   "id": "6972a5f8",
   "metadata": {
    "papermill": {
     "duration": 0.020237,
     "end_time": "2023-07-14T03:30:28.380792",
     "exception": false,
     "start_time": "2023-07-14T03:30:28.360555",
     "status": "completed"
    },
    "tags": []
   },
   "source": [
    "Random forest has the best accuracy so we use for modeling."
   ]
  },
  {
   "cell_type": "markdown",
   "id": "9bccaad3",
   "metadata": {
    "papermill": {
     "duration": 0.020881,
     "end_time": "2023-07-14T03:30:28.421687",
     "exception": false,
     "start_time": "2023-07-14T03:30:28.400806",
     "status": "completed"
    },
    "tags": []
   },
   "source": [
    "### Using grid search to defined the best parameters for random forest algorithm."
   ]
  },
  {
   "cell_type": "code",
   "execution_count": 22,
   "id": "5bc36fee",
   "metadata": {
    "execution": {
     "iopub.execute_input": "2023-07-14T03:30:28.464157Z",
     "iopub.status.busy": "2023-07-14T03:30:28.463794Z",
     "iopub.status.idle": "2023-07-14T03:31:37.338163Z",
     "shell.execute_reply": "2023-07-14T03:31:37.337112Z"
    },
    "papermill": {
     "duration": 68.918235,
     "end_time": "2023-07-14T03:31:37.360292",
     "exception": false,
     "start_time": "2023-07-14T03:30:28.442057",
     "status": "completed"
    },
    "tags": []
   },
   "outputs": [
    {
     "name": "stdout",
     "output_type": "stream",
     "text": [
      "Best hyperparameters:  {'max_depth': 10, 'min_samples_split': 5, 'n_estimators': 200}\n"
     ]
    }
   ],
   "source": [
    "# Define the parameter grid.\n",
    "param_grid = {\n",
    "    'n_estimators': [100, 200, 300],\n",
    "    'max_depth': [None, 5, 10],\n",
    "    'min_samples_split': [2, 5, 10]\n",
    "}\n",
    "\n",
    "# Create an instance of the model.\n",
    "model = RandomForestClassifier()\n",
    "\n",
    "# Create an instance of GridSearchCV.\n",
    "grid_search = GridSearchCV(estimator=model, param_grid=param_grid, cv=5)\n",
    "\n",
    "# Fit the GridSearchCV to the data.\n",
    "grid_search.fit(X_train, y_train)\n",
    "\n",
    "# Get the best hyperparameters.\n",
    "best_params = grid_search.best_params_\n",
    "\n",
    "# Print the best hyperparameters.\n",
    "print(\"Best hyperparameters: \", best_params)\n"
   ]
  },
  {
   "cell_type": "code",
   "execution_count": 23,
   "id": "760a9d7c",
   "metadata": {
    "execution": {
     "iopub.execute_input": "2023-07-14T03:31:37.402579Z",
     "iopub.status.busy": "2023-07-14T03:31:37.402141Z",
     "iopub.status.idle": "2023-07-14T03:31:37.927123Z",
     "shell.execute_reply": "2023-07-14T03:31:37.925687Z"
    },
    "papermill": {
     "duration": 0.54865,
     "end_time": "2023-07-14T03:31:37.929280",
     "exception": false,
     "start_time": "2023-07-14T03:31:37.380630",
     "status": "completed"
    },
    "tags": []
   },
   "outputs": [
    {
     "name": "stdout",
     "output_type": "stream",
     "text": [
      "Accuracy: 0.820\n"
     ]
    }
   ],
   "source": [
    "# Make tha random forest model with specific best hyperparameters.\n",
    "model = RandomForestClassifier(max_depth=10, min_samples_split=2, n_estimators=200)\n",
    "\n",
    "# Fit the model.\n",
    "model.fit(X_train, y_train)\n",
    "\n",
    "# Predict y-predict.\n",
    "y_pred = model.predict(X_test)\n",
    "\n",
    "# Evaluate the accuracy of y-predict.\n",
    "acc = accuracy_score(y_test, y_pred)\n",
    "print(f\"Accuracy: {acc:.3f}\")"
   ]
  },
  {
   "cell_type": "markdown",
   "id": "eba49a40",
   "metadata": {
    "papermill": {
     "duration": 0.019988,
     "end_time": "2023-07-14T03:31:37.969437",
     "exception": false,
     "start_time": "2023-07-14T03:31:37.949449",
     "status": "completed"
    },
    "tags": []
   },
   "source": [
    "# Preperation the test data."
   ]
  },
  {
   "cell_type": "code",
   "execution_count": 24,
   "id": "5034ff86",
   "metadata": {
    "execution": {
     "iopub.execute_input": "2023-07-14T03:31:38.012677Z",
     "iopub.status.busy": "2023-07-14T03:31:38.012258Z",
     "iopub.status.idle": "2023-07-14T03:31:38.027765Z",
     "shell.execute_reply": "2023-07-14T03:31:38.026834Z"
    },
    "papermill": {
     "duration": 0.040985,
     "end_time": "2023-07-14T03:31:38.029815",
     "exception": false,
     "start_time": "2023-07-14T03:31:37.988830",
     "status": "completed"
    },
    "tags": []
   },
   "outputs": [
    {
     "data": {
      "text/html": [
       "<div>\n",
       "<style scoped>\n",
       "    .dataframe tbody tr th:only-of-type {\n",
       "        vertical-align: middle;\n",
       "    }\n",
       "\n",
       "    .dataframe tbody tr th {\n",
       "        vertical-align: top;\n",
       "    }\n",
       "\n",
       "    .dataframe thead th {\n",
       "        text-align: right;\n",
       "    }\n",
       "</style>\n",
       "<table border=\"1\" class=\"dataframe\">\n",
       "  <thead>\n",
       "    <tr style=\"text-align: right;\">\n",
       "      <th></th>\n",
       "      <th>PassengerId</th>\n",
       "      <th>Pclass</th>\n",
       "      <th>Name</th>\n",
       "      <th>Sex</th>\n",
       "      <th>Age</th>\n",
       "      <th>SibSp</th>\n",
       "      <th>Parch</th>\n",
       "      <th>Ticket</th>\n",
       "      <th>Fare</th>\n",
       "      <th>Cabin</th>\n",
       "      <th>Embarked</th>\n",
       "    </tr>\n",
       "  </thead>\n",
       "  <tbody>\n",
       "    <tr>\n",
       "      <th>0</th>\n",
       "      <td>892</td>\n",
       "      <td>3</td>\n",
       "      <td>Kelly, Mr. James</td>\n",
       "      <td>male</td>\n",
       "      <td>34.5</td>\n",
       "      <td>0</td>\n",
       "      <td>0</td>\n",
       "      <td>330911</td>\n",
       "      <td>7.8292</td>\n",
       "      <td>NaN</td>\n",
       "      <td>Q</td>\n",
       "    </tr>\n",
       "    <tr>\n",
       "      <th>1</th>\n",
       "      <td>893</td>\n",
       "      <td>3</td>\n",
       "      <td>Wilkes, Mrs. James (Ellen Needs)</td>\n",
       "      <td>female</td>\n",
       "      <td>47.0</td>\n",
       "      <td>1</td>\n",
       "      <td>0</td>\n",
       "      <td>363272</td>\n",
       "      <td>7.0000</td>\n",
       "      <td>NaN</td>\n",
       "      <td>S</td>\n",
       "    </tr>\n",
       "    <tr>\n",
       "      <th>2</th>\n",
       "      <td>894</td>\n",
       "      <td>2</td>\n",
       "      <td>Myles, Mr. Thomas Francis</td>\n",
       "      <td>male</td>\n",
       "      <td>62.0</td>\n",
       "      <td>0</td>\n",
       "      <td>0</td>\n",
       "      <td>240276</td>\n",
       "      <td>9.6875</td>\n",
       "      <td>NaN</td>\n",
       "      <td>Q</td>\n",
       "    </tr>\n",
       "    <tr>\n",
       "      <th>3</th>\n",
       "      <td>895</td>\n",
       "      <td>3</td>\n",
       "      <td>Wirz, Mr. Albert</td>\n",
       "      <td>male</td>\n",
       "      <td>27.0</td>\n",
       "      <td>0</td>\n",
       "      <td>0</td>\n",
       "      <td>315154</td>\n",
       "      <td>8.6625</td>\n",
       "      <td>NaN</td>\n",
       "      <td>S</td>\n",
       "    </tr>\n",
       "    <tr>\n",
       "      <th>4</th>\n",
       "      <td>896</td>\n",
       "      <td>3</td>\n",
       "      <td>Hirvonen, Mrs. Alexander (Helga E Lindqvist)</td>\n",
       "      <td>female</td>\n",
       "      <td>22.0</td>\n",
       "      <td>1</td>\n",
       "      <td>1</td>\n",
       "      <td>3101298</td>\n",
       "      <td>12.2875</td>\n",
       "      <td>NaN</td>\n",
       "      <td>S</td>\n",
       "    </tr>\n",
       "  </tbody>\n",
       "</table>\n",
       "</div>"
      ],
      "text/plain": [
       "   PassengerId  Pclass                                          Name     Sex  \\\n",
       "0          892       3                              Kelly, Mr. James    male   \n",
       "1          893       3              Wilkes, Mrs. James (Ellen Needs)  female   \n",
       "2          894       2                     Myles, Mr. Thomas Francis    male   \n",
       "3          895       3                              Wirz, Mr. Albert    male   \n",
       "4          896       3  Hirvonen, Mrs. Alexander (Helga E Lindqvist)  female   \n",
       "\n",
       "    Age  SibSp  Parch   Ticket     Fare Cabin Embarked  \n",
       "0  34.5      0      0   330911   7.8292   NaN        Q  \n",
       "1  47.0      1      0   363272   7.0000   NaN        S  \n",
       "2  62.0      0      0   240276   9.6875   NaN        Q  \n",
       "3  27.0      0      0   315154   8.6625   NaN        S  \n",
       "4  22.0      1      1  3101298  12.2875   NaN        S  "
      ]
     },
     "execution_count": 24,
     "metadata": {},
     "output_type": "execute_result"
    }
   ],
   "source": [
    "test.head()"
   ]
  },
  {
   "cell_type": "markdown",
   "id": "8240ab1a",
   "metadata": {
    "papermill": {
     "duration": 0.020464,
     "end_time": "2023-07-14T03:31:38.070921",
     "exception": false,
     "start_time": "2023-07-14T03:31:38.050457",
     "status": "completed"
    },
    "tags": []
   },
   "source": [
    "### Handle the missing values in the test data."
   ]
  },
  {
   "cell_type": "code",
   "execution_count": 25,
   "id": "d2ea9070",
   "metadata": {
    "execution": {
     "iopub.execute_input": "2023-07-14T03:31:38.112373Z",
     "iopub.status.busy": "2023-07-14T03:31:38.111963Z",
     "iopub.status.idle": "2023-07-14T03:31:38.120599Z",
     "shell.execute_reply": "2023-07-14T03:31:38.119869Z"
    },
    "papermill": {
     "duration": 0.031264,
     "end_time": "2023-07-14T03:31:38.122526",
     "exception": false,
     "start_time": "2023-07-14T03:31:38.091262",
     "status": "completed"
    },
    "tags": []
   },
   "outputs": [
    {
     "data": {
      "text/plain": [
       "PassengerId      0\n",
       "Pclass           0\n",
       "Name             0\n",
       "Sex              0\n",
       "Age             86\n",
       "SibSp            0\n",
       "Parch            0\n",
       "Ticket           0\n",
       "Fare             1\n",
       "Cabin          327\n",
       "Embarked         0\n",
       "dtype: int64"
      ]
     },
     "execution_count": 25,
     "metadata": {},
     "output_type": "execute_result"
    }
   ],
   "source": [
    "# How many null values in the data?\n",
    "test.isna().sum()"
   ]
  },
  {
   "cell_type": "code",
   "execution_count": 26,
   "id": "32d67ffb",
   "metadata": {
    "execution": {
     "iopub.execute_input": "2023-07-14T03:31:38.164338Z",
     "iopub.status.busy": "2023-07-14T03:31:38.163653Z",
     "iopub.status.idle": "2023-07-14T03:31:38.172338Z",
     "shell.execute_reply": "2023-07-14T03:31:38.171662Z"
    },
    "papermill": {
     "duration": 0.032073,
     "end_time": "2023-07-14T03:31:38.174243",
     "exception": false,
     "start_time": "2023-07-14T03:31:38.142170",
     "status": "completed"
    },
    "tags": []
   },
   "outputs": [],
   "source": [
    "# Fill the null values in age column for male with their mean.\n",
    "test.loc[test['Sex'] == 'male', 'Age'] = test[test['Sex'] == 'male']['Age'].fillna(value = mean_male)\n",
    "\n",
    "# Fill the null values in age column for female with their mean.\n",
    "test.loc[test['Sex'] == 'female', 'Age'] = test[test['Sex'] == 'female']['Age'].fillna(value = mean_female)"
   ]
  },
  {
   "cell_type": "code",
   "execution_count": 27,
   "id": "a41951af",
   "metadata": {
    "execution": {
     "iopub.execute_input": "2023-07-14T03:31:38.216311Z",
     "iopub.status.busy": "2023-07-14T03:31:38.215572Z",
     "iopub.status.idle": "2023-07-14T03:31:38.220914Z",
     "shell.execute_reply": "2023-07-14T03:31:38.219894Z"
    },
    "papermill": {
     "duration": 0.028577,
     "end_time": "2023-07-14T03:31:38.223132",
     "exception": false,
     "start_time": "2023-07-14T03:31:38.194555",
     "status": "completed"
    },
    "tags": []
   },
   "outputs": [],
   "source": [
    "# Calculate the mean for fare.\n",
    "mean_fare = test[\"Fare\"].mean()"
   ]
  },
  {
   "cell_type": "code",
   "execution_count": 28,
   "id": "8eeecc87",
   "metadata": {
    "execution": {
     "iopub.execute_input": "2023-07-14T03:31:38.264726Z",
     "iopub.status.busy": "2023-07-14T03:31:38.264400Z",
     "iopub.status.idle": "2023-07-14T03:31:38.269301Z",
     "shell.execute_reply": "2023-07-14T03:31:38.268394Z"
    },
    "papermill": {
     "duration": 0.028014,
     "end_time": "2023-07-14T03:31:38.271408",
     "exception": false,
     "start_time": "2023-07-14T03:31:38.243394",
     "status": "completed"
    },
    "tags": []
   },
   "outputs": [],
   "source": [
    "# Fill the null values in fare column its mean.\n",
    "test[\"Fare\"].fillna(value = mean_fare, inplace = True)"
   ]
  },
  {
   "cell_type": "code",
   "execution_count": 29,
   "id": "4932aa37",
   "metadata": {
    "execution": {
     "iopub.execute_input": "2023-07-14T03:31:38.313130Z",
     "iopub.status.busy": "2023-07-14T03:31:38.312811Z",
     "iopub.status.idle": "2023-07-14T03:31:38.317177Z",
     "shell.execute_reply": "2023-07-14T03:31:38.316208Z"
    },
    "papermill": {
     "duration": 0.027978,
     "end_time": "2023-07-14T03:31:38.319190",
     "exception": false,
     "start_time": "2023-07-14T03:31:38.291212",
     "status": "completed"
    },
    "tags": []
   },
   "outputs": [],
   "source": [
    "#Store the PassengerId column in a separate variable.\n",
    "PassengerId = test['PassengerId']"
   ]
  },
  {
   "cell_type": "code",
   "execution_count": 30,
   "id": "c7309543",
   "metadata": {
    "execution": {
     "iopub.execute_input": "2023-07-14T03:31:38.362016Z",
     "iopub.status.busy": "2023-07-14T03:31:38.361633Z",
     "iopub.status.idle": "2023-07-14T03:31:38.366993Z",
     "shell.execute_reply": "2023-07-14T03:31:38.366282Z"
    },
    "papermill": {
     "duration": 0.029008,
     "end_time": "2023-07-14T03:31:38.368712",
     "exception": false,
     "start_time": "2023-07-14T03:31:38.339704",
     "status": "completed"
    },
    "tags": []
   },
   "outputs": [],
   "source": [
    "# Drop unimportant data.\n",
    "test.drop(['PassengerId', 'Name', 'Ticket', 'Cabin', 'SibSp', 'Parch'], axis=1, inplace= True)"
   ]
  },
  {
   "cell_type": "code",
   "execution_count": 31,
   "id": "dea03b04",
   "metadata": {
    "execution": {
     "iopub.execute_input": "2023-07-14T03:31:38.410390Z",
     "iopub.status.busy": "2023-07-14T03:31:38.409682Z",
     "iopub.status.idle": "2023-07-14T03:31:38.417688Z",
     "shell.execute_reply": "2023-07-14T03:31:38.416815Z"
    },
    "papermill": {
     "duration": 0.031,
     "end_time": "2023-07-14T03:31:38.419625",
     "exception": false,
     "start_time": "2023-07-14T03:31:38.388625",
     "status": "completed"
    },
    "tags": []
   },
   "outputs": [
    {
     "data": {
      "text/plain": [
       "Pclass      0\n",
       "Sex         0\n",
       "Age         0\n",
       "Fare        0\n",
       "Embarked    0\n",
       "dtype: int64"
      ]
     },
     "execution_count": 31,
     "metadata": {},
     "output_type": "execute_result"
    }
   ],
   "source": [
    "test.isna().sum()"
   ]
  },
  {
   "cell_type": "markdown",
   "id": "c1f5c0bf",
   "metadata": {
    "papermill": {
     "duration": 0.020279,
     "end_time": "2023-07-14T03:31:38.459607",
     "exception": false,
     "start_time": "2023-07-14T03:31:38.439328",
     "status": "completed"
    },
    "tags": []
   },
   "source": [
    "### Preperation the test data before using model."
   ]
  },
  {
   "cell_type": "code",
   "execution_count": 32,
   "id": "66ee8249",
   "metadata": {
    "execution": {
     "iopub.execute_input": "2023-07-14T03:31:38.502572Z",
     "iopub.status.busy": "2023-07-14T03:31:38.501260Z",
     "iopub.status.idle": "2023-07-14T03:31:38.509294Z",
     "shell.execute_reply": "2023-07-14T03:31:38.508518Z"
    },
    "papermill": {
     "duration": 0.031805,
     "end_time": "2023-07-14T03:31:38.511221",
     "exception": false,
     "start_time": "2023-07-14T03:31:38.479416",
     "status": "completed"
    },
    "tags": []
   },
   "outputs": [],
   "source": [
    "# Encode categorical variables.\n",
    "test.replace({'Sex': {'male': 0, 'female': 1},\n",
    "                   'Embarked': {'S': 0, 'Q': 1, 'C': 2}}, inplace=True)"
   ]
  },
  {
   "cell_type": "code",
   "execution_count": 33,
   "id": "4f6e964a",
   "metadata": {
    "execution": {
     "iopub.execute_input": "2023-07-14T03:31:38.554368Z",
     "iopub.status.busy": "2023-07-14T03:31:38.553414Z",
     "iopub.status.idle": "2023-07-14T03:31:38.564789Z",
     "shell.execute_reply": "2023-07-14T03:31:38.563809Z"
    },
    "papermill": {
     "duration": 0.035194,
     "end_time": "2023-07-14T03:31:38.566729",
     "exception": false,
     "start_time": "2023-07-14T03:31:38.531535",
     "status": "completed"
    },
    "tags": []
   },
   "outputs": [],
   "source": [
    "# Select numerical columns to scale.\n",
    "num_cols = ['Age', 'Fare']\n",
    "\n",
    "# Create scaler object.\n",
    "scaler = StandardScaler()\n",
    "\n",
    "# Fit scaler on selected columns.\n",
    "scaler.fit(test[num_cols])\n",
    "\n",
    "# Transform selected columns with scaler.\n",
    "test[num_cols] = scaler.transform(test[num_cols])\n"
   ]
  },
  {
   "cell_type": "markdown",
   "id": "c83550a6",
   "metadata": {
    "papermill": {
     "duration": 0.020592,
     "end_time": "2023-07-14T03:31:38.607920",
     "exception": false,
     "start_time": "2023-07-14T03:31:38.587328",
     "status": "completed"
    },
    "tags": []
   },
   "source": [
    "# Prediction and submission."
   ]
  },
  {
   "cell_type": "code",
   "execution_count": 34,
   "id": "a59bb129",
   "metadata": {
    "execution": {
     "iopub.execute_input": "2023-07-14T03:31:38.653083Z",
     "iopub.status.busy": "2023-07-14T03:31:38.651816Z",
     "iopub.status.idle": "2023-07-14T03:31:38.694207Z",
     "shell.execute_reply": "2023-07-14T03:31:38.693387Z"
    },
    "papermill": {
     "duration": 0.067594,
     "end_time": "2023-07-14T03:31:38.696565",
     "exception": false,
     "start_time": "2023-07-14T03:31:38.628971",
     "status": "completed"
    },
    "tags": []
   },
   "outputs": [],
   "source": [
    "#Generate predictions for the test data using RandomForestClassifier.\n",
    "test_pred = model.predict(test)"
   ]
  },
  {
   "cell_type": "code",
   "execution_count": 35,
   "id": "e47de636",
   "metadata": {
    "execution": {
     "iopub.execute_input": "2023-07-14T03:31:38.739079Z",
     "iopub.status.busy": "2023-07-14T03:31:38.738752Z",
     "iopub.status.idle": "2023-07-14T03:31:38.743516Z",
     "shell.execute_reply": "2023-07-14T03:31:38.742543Z"
    },
    "papermill": {
     "duration": 0.02787,
     "end_time": "2023-07-14T03:31:38.745465",
     "exception": false,
     "start_time": "2023-07-14T03:31:38.717595",
     "status": "completed"
    },
    "tags": []
   },
   "outputs": [],
   "source": [
    "# Make the submission data frame.\n",
    "submission = pd.DataFrame({'PassengerId': PassengerId, 'Survived': test_pred})"
   ]
  },
  {
   "cell_type": "code",
   "execution_count": 36,
   "id": "c2b4b19e",
   "metadata": {
    "execution": {
     "iopub.execute_input": "2023-07-14T03:31:38.787207Z",
     "iopub.status.busy": "2023-07-14T03:31:38.786600Z",
     "iopub.status.idle": "2023-07-14T03:31:38.794878Z",
     "shell.execute_reply": "2023-07-14T03:31:38.793802Z"
    },
    "papermill": {
     "duration": 0.030913,
     "end_time": "2023-07-14T03:31:38.796676",
     "exception": false,
     "start_time": "2023-07-14T03:31:38.765763",
     "status": "completed"
    },
    "tags": []
   },
   "outputs": [
    {
     "name": "stdout",
     "output_type": "stream",
     "text": [
      "Your submission was successfully saved!\n"
     ]
    }
   ],
   "source": [
    "# Convert the submission data frame to CSV file.\n",
    "submission.to_csv('submission.csv', index=False)\n",
    "print(\"Your submission was successfully saved!\")"
   ]
  },
  {
   "cell_type": "markdown",
   "id": "da130f2a",
   "metadata": {
    "papermill": {
     "duration": 0.019881,
     "end_time": "2023-07-14T03:31:38.836056",
     "exception": false,
     "start_time": "2023-07-14T03:31:38.816175",
     "status": "completed"
    },
    "tags": []
   },
   "source": [
    "# Conclusion"
   ]
  },
  {
   "cell_type": "markdown",
   "id": "f11e7de0",
   "metadata": {
    "papermill": {
     "duration": 0.02026,
     "end_time": "2023-07-14T03:31:38.877020",
     "exception": false,
     "start_time": "2023-07-14T03:31:38.856760",
     "status": "completed"
    },
    "tags": []
   },
   "source": [
    "In conclusion, we started by exploring the Titanic dataset and understanding the variables involved in it. We then performed data cleaning, and data preprocessing to prepare the data for modeling. We used different machine learning algorithms such as Decision Tree, Random Forest, Support Vector Machines (SVM), and Logistic Regression to predict the survival of passengers.\n",
    "\n",
    "We compared the accuracy of the models. We found that Random Forest gave the best results and we tuned the hyperparameters to improve this performance.\n",
    "\n",
    "Finally, we used the trained model to predict the survival of passengers in the test dataset and submitted the results to Kaggle.\n",
    "\n",
    "Overall, this project gave us a good understanding of data preprocessing, machine learning algorithms, and model tuning techniques. It was a great learning experience and helped us develop practical data science skills."
   ]
  }
 ],
 "metadata": {
  "kernelspec": {
   "display_name": "Python 3",
   "language": "python",
   "name": "python3"
  },
  "language_info": {
   "codemirror_mode": {
    "name": "ipython",
    "version": 3
   },
   "file_extension": ".py",
   "mimetype": "text/x-python",
   "name": "python",
   "nbconvert_exporter": "python",
   "pygments_lexer": "ipython3",
   "version": "3.10.12"
  },
  "papermill": {
   "default_parameters": {},
   "duration": 93.011997,
   "end_time": "2023-07-14T03:31:39.717720",
   "environment_variables": {},
   "exception": null,
   "input_path": "__notebook__.ipynb",
   "output_path": "__notebook__.ipynb",
   "parameters": {},
   "start_time": "2023-07-14T03:30:06.705723",
   "version": "2.4.0"
  }
 },
 "nbformat": 4,
 "nbformat_minor": 5
}
